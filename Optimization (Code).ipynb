{
  "cells": [
    {
      "cell_type": "code",
      "execution_count": 43,
      "id": "3b235a3d",
      "metadata": {},
      "outputs": [
        {
          "name": "stdout",
          "output_type": "stream",
          "text": [
            "Requirement already satisfied: cvxpy-base in /Users/raniaserenasoetirto/anaconda3/lib/python3.11/site-packages (1.4.1)\n",
            "Requirement already satisfied: numpy>=1.15 in /Users/raniaserenasoetirto/anaconda3/lib/python3.11/site-packages (from cvxpy-base) (1.24.3)\n",
            "Requirement already satisfied: scipy>=1.1.0 in /Users/raniaserenasoetirto/anaconda3/lib/python3.11/site-packages (from cvxpy-base) (1.10.1)\n",
            "Requirement already satisfied: pybind11 in /Users/raniaserenasoetirto/anaconda3/lib/python3.11/site-packages (from cvxpy-base) (2.11.1)\n",
            "Note: you may need to restart the kernel to use updated packages.\n"
          ]
        }
      ],
      "source": [
        "pip install cvxpy-base\n"
      ]
    },
    {
      "cell_type": "code",
      "execution_count": 44,
      "id": "e45d342c",
      "metadata": {},
      "outputs": [],
      "source": [
        "import numpy as np\n",
        "import pandas as pd\n",
        "import cvxpy as cp\n"
      ]
    },
    {
      "cell_type": "code",
      "execution_count": 45,
      "id": "F_ooA0xCoS3H",
      "metadata": {
        "id": "F_ooA0xCoS3H"
      },
      "outputs": [],
      "source": [
        "from IPython.display import *"
      ]
    },
    {
      "cell_type": "markdown",
      "id": "c8b6c030",
      "metadata": {
        "id": "c8b6c030"
      },
      "source": [
        "# Optimization Code\n"
      ]
    },
    {
      "cell_type": "markdown",
      "id": "a5ac4359",
      "metadata": {
        "id": "a5ac4359"
      },
      "source": [
        "# Supply Chain (Example)\n",
        "<br>\n",
        "<font size=\"+1\">\n",
        "    <ul>\n",
        "        <li>A food factory requires $2000$ tons of canola oil every month as a raw ingredient.</li>\n",
        "        <br>\n",
        "        <li>The prices of canola oil fluctuates from month to month due to market conditions.</li>\n",
        "        <br>\n",
        "        <li>The predicted prices for the next six months are: <br> <table>\n",
        "  <tr>\n",
        "    <th>Month</th>\n",
        "    <th>1</th>\n",
        "      <th>2</th>\n",
        "      <th>3</th>\n",
        "      <th>4</th>\n",
        "      <th>5</th>\n",
        "      <th>6</th>\n",
        "  </tr>\n",
        "  <tr>\n",
        "    <td>Price per ton</td>\n",
        "    <th>150</th>\n",
        "      <th>160</th>\n",
        "      <th>180</th>\n",
        "      <th>170</th>\n",
        "      <th>180</th>\n",
        "      <th>160</th>\n",
        "  </tr>\n",
        "    </table></li>\n",
        "        <br>\n",
        "        <li>The factory's supplier for canola oil delivers it on the first day of every month, and charges the above prices.</li>\n",
        "        <br>\n",
        "        <li>The factory can decide how much oil to buy each month from the supplier.</li>\n",
        "        <br>\n",
        "        <li>At the end of each month, the factory can also store unused oil for future use, but the inventory of oil (total amount stored)  cannot exceed $1000$ tons at any given time. Assume the inventory before the first shipment is zero.</li>\n",
        "        <br>\n",
        "       \n",
        "$\\square$"
      ]
    },
    {
      "cell_type": "code",
      "execution_count": 46,
      "id": "QctvP5osnKme",
      "metadata": {
        "id": "QctvP5osnKme"
      },
      "outputs": [],
      "source": [
        "#Create a data frame featuring the necessary variables and information\n",
        "\n",
        "food_production_pddf = pd.DataFrame(\n",
        "    {\n",
        "        \"month\": [1, 2, 3, 4, 5, 6],\n",
        "        \"price_per_ton\": [150, 160, 180, 170, 180, 160],\n",
        "        \"demand\": [2000, 2000, 2000, 2000, 2000, 2000],\n",
        "        \"max_storage\": [1000, 1000, 1000, 1000, 1000, 1000]\n",
        "    }\n",
        ")"
      ]
    },
    {
      "cell_type": "code",
      "execution_count": 47,
      "id": "599c4800",
      "metadata": {
        "colab": {
          "base_uri": "https://localhost:8080/",
          "height": 235
        },
        "id": "599c4800",
        "outputId": "3dd2a1f3-669d-43f0-e969-4860d2d846ce"
      },
      "outputs": [
        {
          "data": {
            "text/html": [
              "<div>\n",
              "<style scoped>\n",
              "    .dataframe tbody tr th:only-of-type {\n",
              "        vertical-align: middle;\n",
              "    }\n",
              "\n",
              "    .dataframe tbody tr th {\n",
              "        vertical-align: top;\n",
              "    }\n",
              "\n",
              "    .dataframe thead th {\n",
              "        text-align: right;\n",
              "    }\n",
              "</style>\n",
              "<table border=\"1\" class=\"dataframe\">\n",
              "  <thead>\n",
              "    <tr style=\"text-align: right;\">\n",
              "      <th></th>\n",
              "      <th>month</th>\n",
              "      <th>price_per_ton</th>\n",
              "      <th>demand</th>\n",
              "      <th>max_storage</th>\n",
              "    </tr>\n",
              "  </thead>\n",
              "  <tbody>\n",
              "    <tr>\n",
              "      <th>0</th>\n",
              "      <td>1</td>\n",
              "      <td>150</td>\n",
              "      <td>2000</td>\n",
              "      <td>1000</td>\n",
              "    </tr>\n",
              "    <tr>\n",
              "      <th>1</th>\n",
              "      <td>2</td>\n",
              "      <td>160</td>\n",
              "      <td>2000</td>\n",
              "      <td>1000</td>\n",
              "    </tr>\n",
              "    <tr>\n",
              "      <th>2</th>\n",
              "      <td>3</td>\n",
              "      <td>180</td>\n",
              "      <td>2000</td>\n",
              "      <td>1000</td>\n",
              "    </tr>\n",
              "    <tr>\n",
              "      <th>3</th>\n",
              "      <td>4</td>\n",
              "      <td>170</td>\n",
              "      <td>2000</td>\n",
              "      <td>1000</td>\n",
              "    </tr>\n",
              "    <tr>\n",
              "      <th>4</th>\n",
              "      <td>5</td>\n",
              "      <td>180</td>\n",
              "      <td>2000</td>\n",
              "      <td>1000</td>\n",
              "    </tr>\n",
              "    <tr>\n",
              "      <th>5</th>\n",
              "      <td>6</td>\n",
              "      <td>160</td>\n",
              "      <td>2000</td>\n",
              "      <td>1000</td>\n",
              "    </tr>\n",
              "  </tbody>\n",
              "</table>\n",
              "</div>"
            ],
            "text/plain": [
              "   month  price_per_ton  demand  max_storage\n",
              "0      1            150    2000         1000\n",
              "1      2            160    2000         1000\n",
              "2      3            180    2000         1000\n",
              "3      4            170    2000         1000\n",
              "4      5            180    2000         1000\n",
              "5      6            160    2000         1000"
            ]
          },
          "execution_count": 47,
          "metadata": {},
          "output_type": "execute_result"
        }
      ],
      "source": [
        "food_production_pddf"
      ]
    },
    {
      "cell_type": "code",
      "execution_count": 29,
      "id": "YZrbJw-7nYZP",
      "metadata": {
        "id": "YZrbJw-7nYZP"
      },
      "outputs": [],
      "source": [
        "#Determine the variables that used in this optimization problem. Here we are tyring to determine how much oil to buy and how much to store\n",
        "fp_dv_buy = cp.Variable(food_production_pddf.shape[0], nonneg = True)\n",
        "fp_dv_store = cp.Variable(food_production_pddf.shape[0], nonneg = True)"
      ]
    },
    {
      "cell_type": "code",
      "execution_count": 48,
      "id": "LO8RbMprnZgk",
      "metadata": {
        "id": "LO8RbMprnZgk"
      },
      "outputs": [],
      "source": [
        "non_neg_const_fp_dv_buy, non_neg_const_fp_dv_store = (True, True)\n",
        "fp_dv_buy, fp_dv_store = (cp.Variable(food_production_pddf.shape[0], nonneg = non_neg_const_fp_dv_buy), cp.Variable(food_production_pddf.shape[0], nonneg = non_neg_const_fp_dv_store))"
      ]
    },
    {
      "cell_type": "code",
      "execution_count": 49,
      "id": "a0dfb56c",
      "metadata": {
        "id": "a0dfb56c"
      },
      "outputs": [],
      "source": [
        "#Here we are determining the objective to this optimization which is to limit cost\n",
        "total_procurement_cost = cp.sum(cp.multiply(food_production_pddf[\"price_per_ton\"], fp_dv_buy))\n",
        "obj_min_total_procurement_cost = cp.Minimize(total_procurement_cost)\n",
        "obj_min_total_procurement_cost = cp.Minimize(cp.sum(cp.multiply(food_production_pddf[\"price_per_ton\"], fp_dv_buy)))"
      ]
    },
    {
      "cell_type": "code",
      "execution_count": 50,
      "id": "ee625e92",
      "metadata": {
        "colab": {
          "base_uri": "https://localhost:8080/"
        },
        "id": "ee625e92",
        "outputId": "f4f61efe-a737-45bb-ec5a-ba8eb51f9ea3",
        "scrolled": true
      },
      "outputs": [
        {
          "data": {
            "text/plain": [
              "<generator object <genexpr> at 0x28a6ce020>"
            ]
          },
          "execution_count": 50,
          "metadata": {},
          "output_type": "execute_result"
        }
      ],
      "source": [
        "(fp_dv_store[i] == (fp_dv_buy[i] - food_production_pddf.loc[i, \"demand\"]) if i == 0 else\n",
        "      (fp_dv_store[i] == (fp_dv_store[i - 1] + fp_dv_buy[i] - food_production_pddf.loc[i, \"demand\"]))\n",
        "      for i in range(food_production_pddf.shape[0]))"
      ]
    },
    {
      "cell_type": "code",
      "execution_count": 52,
      "id": "9OYYsPkmnkkI",
      "metadata": {
        "id": "9OYYsPkmnkkI"
      },
      "outputs": [],
      "source": [
        "#Here we determine the constraints of this optimization problem which decided that we cannot store oil more than the max storage which is 1000 tons in this case\n",
        "fp_constraints = []\n",
        "for i in range(food_production_pddf.shape[0]):\n",
        "  if i == 0:\n",
        "    fp_constraints.append(fp_dv_store[i] == (fp_dv_buy[i] - food_production_pddf.loc[i, \"demand\"]))\n",
        "  else:\n",
        "     fp_constraints.append((fp_dv_store[i] == (fp_dv_store[i - 1] + fp_dv_buy[i] - food_production_pddf.loc[i, \"demand\"])))\n",
        "fp_constraints.append(fp_dv_store <= food_production_pddf[\"max_storage\"])"
      ]
    },
    {
      "cell_type": "code",
      "execution_count": 53,
      "id": "cFa6jCPhnobH",
      "metadata": {
        "id": "cFa6jCPhnobH"
      },
      "outputs": [],
      "source": [
        "fp_constraints = [\n",
        "    *(fp_dv_store[i] == (fp_dv_buy[i] - food_production_pddf.loc[i, \"demand\"]) if i == 0 else\n",
        "      (fp_dv_store[i] == (fp_dv_store[i - 1] + fp_dv_buy[i] - food_production_pddf.loc[i, \"demand\"]))\n",
        "      for i in range(food_production_pddf.shape[0])),\n",
        "    fp_dv_store <= food_production_pddf[\"max_storage\"]\n",
        "]"
      ]
    },
    {
      "cell_type": "code",
      "execution_count": 54,
      "id": "4b864943",
      "metadata": {
        "id": "4b864943",
        "scrolled": false
      },
      "outputs": [],
      "source": [
        "fp_problem = cp.Problem(obj_min_total_procurement_cost, fp_constraints)"
      ]
    },
    {
      "cell_type": "code",
      "execution_count": 55,
      "id": "tRZdpDBhn3hR",
      "metadata": {
        "colab": {
          "base_uri": "https://localhost:8080/"
        },
        "id": "tRZdpDBhn3hR",
        "outputId": "61275393-c9a0-4a63-c563-7260cd52d422"
      },
      "outputs": [
        {
          "name": "stdout",
          "output_type": "stream",
          "text": [
            "===============================================================================\n",
            "                                     CVXPY                                     \n",
            "                                     v1.4.1                                    \n",
            "===============================================================================\n",
            "(CVXPY) Jan 11 12:48:24 PM: Your problem has 12 variables, 7 constraints, and 0 parameters.\n",
            "(CVXPY) Jan 11 12:48:24 PM: It is compliant with the following grammars: DCP, DQCP\n",
            "(CVXPY) Jan 11 12:48:24 PM: (If you need to solve this problem multiple times, but with different data, consider using parameters.)\n",
            "(CVXPY) Jan 11 12:48:24 PM: CVXPY will first compile your problem; then, it will invoke a numerical solver to obtain a solution.\n",
            "(CVXPY) Jan 11 12:48:24 PM: Your problem is compiled with the CPP canonicalization backend.\n",
            "-------------------------------------------------------------------------------\n",
            "                                  Compilation                                  \n",
            "-------------------------------------------------------------------------------\n",
            "(CVXPY) Jan 11 12:48:24 PM: Compiling problem (target solver=SCIPY).\n",
            "(CVXPY) Jan 11 12:48:24 PM: Reduction chain: Dcp2Cone -> CvxAttr2Constr -> ConeMatrixStuffing -> SCIPY\n",
            "(CVXPY) Jan 11 12:48:24 PM: Applying reduction Dcp2Cone\n",
            "(CVXPY) Jan 11 12:48:24 PM: Applying reduction CvxAttr2Constr\n",
            "(CVXPY) Jan 11 12:48:24 PM: Applying reduction ConeMatrixStuffing\n",
            "(CVXPY) Jan 11 12:48:24 PM: Applying reduction SCIPY\n",
            "(CVXPY) Jan 11 12:48:24 PM: Finished problem compilation (took 1.002e-02 seconds).\n",
            "-------------------------------------------------------------------------------\n",
            "                                Numerical solver                               \n",
            "-------------------------------------------------------------------------------\n",
            "(CVXPY) Jan 11 12:48:24 PM: Invoking solver SCIPY  to obtain a solution.\n",
            "Solver terminated with message: Optimization terminated successfully. (HiGHS Status 7: Optimal)\n",
            "-------------------------------------------------------------------------------\n",
            "                                    Summary                                    \n",
            "-------------------------------------------------------------------------------\n",
            "(CVXPY) Jan 11 12:48:24 PM: Problem status: optimal\n",
            "(CVXPY) Jan 11 12:48:24 PM: Optimal value: 1.960e+06\n",
            "(CVXPY) Jan 11 12:48:24 PM: Compilation took 1.002e-02 seconds\n",
            "(CVXPY) Jan 11 12:48:24 PM: Solver (including time spent in interface) took 1.629e-03 seconds\n"
          ]
        }
      ],
      "source": [
        "#The solution is as follows\n",
        "\n",
        "optimal_cost = fp_problem.solve(verbose = True)\n",
        "\n",
        "food_production_pddf[\"optimal_buys\"] = fp_dv_buy.value\n",
        "food_production_pddf[\"optimal_stores\"] = fp_dv_store.value"
      ]
    },
    {
      "cell_type": "code",
      "execution_count": 56,
      "id": "Maeuc5KFn7Ma",
      "metadata": {
        "colab": {
          "base_uri": "https://localhost:8080/",
          "height": 281
        },
        "id": "Maeuc5KFn7Ma",
        "outputId": "f1304c7a-40b5-424e-bdd3-7819affdd7d4"
      },
      "outputs": [
        {
          "data": {
            "text/markdown": [
              "<b><u>Based on the solver, we can define the problem as linear, therefore, we can fit them into a linear model, based on the fitted model, we can see the optimal buying quantity strategy for each month which are: </u></b>"
            ],
            "text/plain": [
              "<IPython.core.display.Markdown object>"
            ]
          },
          "metadata": {},
          "output_type": "display_data"
        },
        {
          "data": {
            "text/html": [
              "<div>\n",
              "<style scoped>\n",
              "    .dataframe tbody tr th:only-of-type {\n",
              "        vertical-align: middle;\n",
              "    }\n",
              "\n",
              "    .dataframe tbody tr th {\n",
              "        vertical-align: top;\n",
              "    }\n",
              "\n",
              "    .dataframe thead th {\n",
              "        text-align: right;\n",
              "    }\n",
              "</style>\n",
              "<table border=\"1\" class=\"dataframe\">\n",
              "  <thead>\n",
              "    <tr style=\"text-align: right;\">\n",
              "      <th></th>\n",
              "      <th>month</th>\n",
              "      <th>price_per_ton</th>\n",
              "      <th>demand</th>\n",
              "      <th>max_storage</th>\n",
              "      <th>optimal_buys</th>\n",
              "      <th>optimal_stores</th>\n",
              "    </tr>\n",
              "  </thead>\n",
              "  <tbody>\n",
              "    <tr>\n",
              "      <th>0</th>\n",
              "      <td>1</td>\n",
              "      <td>150</td>\n",
              "      <td>2000</td>\n",
              "      <td>1000</td>\n",
              "      <td>3000.0</td>\n",
              "      <td>1000.0</td>\n",
              "    </tr>\n",
              "    <tr>\n",
              "      <th>1</th>\n",
              "      <td>2</td>\n",
              "      <td>160</td>\n",
              "      <td>2000</td>\n",
              "      <td>1000</td>\n",
              "      <td>2000.0</td>\n",
              "      <td>1000.0</td>\n",
              "    </tr>\n",
              "    <tr>\n",
              "      <th>2</th>\n",
              "      <td>3</td>\n",
              "      <td>180</td>\n",
              "      <td>2000</td>\n",
              "      <td>1000</td>\n",
              "      <td>1000.0</td>\n",
              "      <td>0.0</td>\n",
              "    </tr>\n",
              "    <tr>\n",
              "      <th>3</th>\n",
              "      <td>4</td>\n",
              "      <td>170</td>\n",
              "      <td>2000</td>\n",
              "      <td>1000</td>\n",
              "      <td>3000.0</td>\n",
              "      <td>1000.0</td>\n",
              "    </tr>\n",
              "    <tr>\n",
              "      <th>4</th>\n",
              "      <td>5</td>\n",
              "      <td>180</td>\n",
              "      <td>2000</td>\n",
              "      <td>1000</td>\n",
              "      <td>1000.0</td>\n",
              "      <td>0.0</td>\n",
              "    </tr>\n",
              "    <tr>\n",
              "      <th>5</th>\n",
              "      <td>6</td>\n",
              "      <td>160</td>\n",
              "      <td>2000</td>\n",
              "      <td>1000</td>\n",
              "      <td>2000.0</td>\n",
              "      <td>0.0</td>\n",
              "    </tr>\n",
              "  </tbody>\n",
              "</table>\n",
              "</div>"
            ],
            "text/plain": [
              "   month  price_per_ton  demand  max_storage  optimal_buys  optimal_stores\n",
              "0      1            150    2000         1000        3000.0          1000.0\n",
              "1      2            160    2000         1000        2000.0          1000.0\n",
              "2      3            180    2000         1000        1000.0             0.0\n",
              "3      4            170    2000         1000        3000.0          1000.0\n",
              "4      5            180    2000         1000        1000.0             0.0\n",
              "5      6            160    2000         1000        2000.0             0.0"
            ]
          },
          "metadata": {},
          "output_type": "display_data"
        }
      ],
      "source": [
        "display(Markdown(\"<b><u>Based on the solver, we can define the problem as linear, therefore, we can fit them into a linear model, based on the fitted model, we can see the optimal buying quantity strategy for each month which are: </u></b>\"),\n",
        "        food_production_pddf)"
      ]
    },
    {
      "cell_type": "markdown",
      "id": "64365296",
      "metadata": {
        "id": "64365296"
      },
      "source": [
        "# Problem 2 - Optimization Code for Profit/Revenue Strategy\n",
        "<br>\n",
        "<font size=\"+1\">\n",
        "    <ul>\n",
        "        <li>The Magnetron Company manufactures and markets microwave ovens.</li>\n",
        "        <br>\n",
        "        <ul>\n",
        "            <li>Currently, the company produces two models: full-size and compact.</li>\n",
        "            <br>\n",
        "            <li>Production is limited by the amount of labor available in the general assembly and electronics assembly departments, as well as by the demand for each model.</li>\n",
        "            <br>\n",
        "            <li>Each full-size oven requires $2$ hours of general assembly and $2$ hours of electronic assembly, whereas each compact oven requires $2$ hours of general assembly and $3$ hours of electronic assembly.</li>\n",
        "            <br>\n",
        "            <li>In the current production period, there are $500$ hours of general assembly labor available and $800$ hours of electronic assembly labor available.</li>\n",
        "            <br>\n",
        "            <li>Additionally, the company estimates it can sell at most $220$ full-size ovens and $180$ compact ovens in the current production period.</li>\n",
        "            <br>\n",
        "            <li>The earnings contribution per oven is $120$ dollars for a full-size oven and $130$ dollars for a compact oven.</li>\n",
        "            <br>\n",
        "            <font color=\"red\"><li style=\"color:red\">The company would like to find an earnings-maximizing production plan for the current production period.</li></font>\n",
        "            <br>\n",
        "        </ul>\n",
        "</font>\n",
        "\n",
        "$\\square$"
      ]
    },
    {
      "cell_type": "code",
      "execution_count": 57,
      "id": "f77cc62d",
      "metadata": {
        "id": "f77cc62d"
      },
      "outputs": [],
      "source": [
        "#Identify the variables outlined in the problem above. The problem specifies the production of two models (equivalent to two variables), for which the company seeks to devise a production plan aimed at maximizing revenue.\n",
        "x = cp.Variable(1)\n",
        "y = cp.Variable(1)"
      ]
    },
    {
      "cell_type": "code",
      "execution_count": 58,
      "id": "fdd14089",
      "metadata": {
        "id": "fdd14089"
      },
      "outputs": [],
      "source": [
        "#Determine the objective of this problem, which is to maximize production revenue\n",
        "production_objective = (120*x + 130*y)\n",
        "max_total_revenue = cp.Maximize(production_objective)"
      ]
    },
    {
      "cell_type": "code",
      "execution_count": 59,
      "id": "f03ed156",
      "metadata": {
        "id": "f03ed156"
      },
      "outputs": [],
      "source": [
        "#Identify the constraints as listed above\n",
        "constraints  = [2*x + 2*y <= 500,\n",
        "                2*x + 3*y <= 800,\n",
        "                x <= 220, y <= 180,\n",
        "                x >= 0, y >= 0]"
      ]
    },
    {
      "cell_type": "code",
      "execution_count": 60,
      "id": "e418bfaf",
      "metadata": {
        "colab": {
          "base_uri": "https://localhost:8080/"
        },
        "id": "e418bfaf",
        "outputId": "d1d45d55-c535-46f5-f9e0-4f6b7d771dd0"
      },
      "outputs": [
        {
          "name": "stdout",
          "output_type": "stream",
          "text": [
            "===============================================================================\n",
            "                                     CVXPY                                     \n",
            "                                     v1.4.1                                    \n",
            "===============================================================================\n",
            "(CVXPY) Jan 11 01:07:23 PM: Your problem has 2 variables, 6 constraints, and 0 parameters.\n",
            "(CVXPY) Jan 11 01:07:23 PM: It is compliant with the following grammars: DCP, DQCP\n",
            "(CVXPY) Jan 11 01:07:23 PM: (If you need to solve this problem multiple times, but with different data, consider using parameters.)\n",
            "(CVXPY) Jan 11 01:07:23 PM: CVXPY will first compile your problem; then, it will invoke a numerical solver to obtain a solution.\n",
            "(CVXPY) Jan 11 01:07:23 PM: Your problem is compiled with the CPP canonicalization backend.\n",
            "-------------------------------------------------------------------------------\n",
            "                                  Compilation                                  \n",
            "-------------------------------------------------------------------------------\n",
            "(CVXPY) Jan 11 01:07:23 PM: Compiling problem (target solver=SCIPY).\n",
            "(CVXPY) Jan 11 01:07:23 PM: Reduction chain: FlipObjective -> Dcp2Cone -> CvxAttr2Constr -> ConeMatrixStuffing -> SCIPY\n",
            "(CVXPY) Jan 11 01:07:23 PM: Applying reduction FlipObjective\n",
            "(CVXPY) Jan 11 01:07:23 PM: Applying reduction Dcp2Cone\n",
            "(CVXPY) Jan 11 01:07:23 PM: Applying reduction CvxAttr2Constr\n",
            "(CVXPY) Jan 11 01:07:23 PM: Applying reduction ConeMatrixStuffing\n",
            "(CVXPY) Jan 11 01:07:23 PM: Applying reduction SCIPY\n",
            "(CVXPY) Jan 11 01:07:23 PM: Finished problem compilation (took 8.533e-03 seconds).\n",
            "-------------------------------------------------------------------------------\n",
            "                                Numerical solver                               \n",
            "-------------------------------------------------------------------------------\n",
            "(CVXPY) Jan 11 01:07:23 PM: Invoking solver SCIPY  to obtain a solution.\n",
            "Solver terminated with message: Optimization terminated successfully. (HiGHS Status 7: Optimal)\n",
            "-------------------------------------------------------------------------------\n",
            "                                    Summary                                    \n",
            "-------------------------------------------------------------------------------\n",
            "(CVXPY) Jan 11 01:07:23 PM: Problem status: optimal\n",
            "(CVXPY) Jan 11 01:07:23 PM: Optimal value: 3.180e+04\n",
            "(CVXPY) Jan 11 01:07:23 PM: Compilation took 8.533e-03 seconds\n",
            "(CVXPY) Jan 11 01:07:23 PM: Solver (including time spent in interface) took 7.490e-03 seconds\n"
          ]
        },
        {
          "data": {
            "text/plain": [
              "31800.0"
            ]
          },
          "execution_count": 60,
          "metadata": {},
          "output_type": "execute_result"
        }
      ],
      "source": [
        "#Code the solution\n",
        "problem = cp.Problem(max_total_revenue, constraints)\n",
        "problem.solve(verbose=True)"
      ]
    },
    {
      "cell_type": "code",
      "execution_count": 67,
      "id": "0f8224a2",
      "metadata": {},
      "outputs": [
        {
          "data": {
            "text/markdown": [
              "<b><u>The production plan is to produce 70 units of the full-size ovens and 180 units of the compact size oven, which gives a maximum earning of $31,800 dollars per this production period as identified by the solver.</u></b>"
            ],
            "text/plain": [
              "<IPython.core.display.Markdown object>"
            ]
          },
          "metadata": {},
          "output_type": "display_data"
        }
      ],
      "source": [
        "display(Markdown(\"<b><u>The production plan is to produce 70 units of the full-size ovens and 180 units of the compact size oven, which gives a maximum earning of $31,800 dollars per this production period as identified by the solver.</u></b>\"))"
      ]
    },
    {
      "cell_type": "markdown",
      "id": "b6d65d3b",
      "metadata": {
        "id": "b6d65d3b"
      },
      "source": [
        "$\\rule{800pt}{20pt}$"
      ]
    },
    {
      "cell_type": "markdown",
      "id": "8c2db1ee",
      "metadata": {
        "id": "8c2db1ee"
      },
      "source": [
        "# Problem 3 - Supply Chain Planning\n",
        "<br>\n",
        "<font size=\"+1\">\n",
        "    <ul>\n",
        "        <br>\n",
        "        <li>Every time Amazon has to ship an item from its fulfillment centers to a particular region, it incurs a shipping cost.</li>\n",
        "        <br>\n",
        "        <li>Consider the following shipping costs from three of Amazon's fulfillment centers (FC) to four regions (A, B, C, and D):</li>\n",
        "        <br>\n",
        "        <li><br><table>\n",
        "  <tr>\n",
        "    <th>Region \\ FC:</th>\n",
        "    <th>1</th>\n",
        "    <th>2</th>\n",
        "      <th>3</th>\n",
        "  </tr>\n",
        "  <tr>\n",
        "    <td>A: King's County, NY</td>\n",
        "    <td>20</td>\n",
        "    <td>8</td>\n",
        "      <td>25</td>\n",
        "  </tr>\n",
        "            <tr>\n",
        "    <td>B: LA County, CA</td>\n",
        "    <td>18</td>\n",
        "      <td>23</td>\n",
        "      <td>8</td>\n",
        "  </tr>\n",
        "  <tr>\n",
        "    <td>C: King County, WA</td>\n",
        "    <td>21</td>\n",
        "    <td>24</td>\n",
        "      <td>8</td>\n",
        "  </tr>\n",
        "            <tr>\n",
        "    <td>D: Harris County, TX</td>\n",
        "    <td>8</td>\n",
        "    <td>8</td>\n",
        "      <td>19</td>\n",
        "  </tr>\n",
        "       </table></li>\n",
        "        <br>\n",
        "        <li>It costs $20$ dollars to ship from fulfillment center $1$ to region $A$, for example.</li>\n",
        "        <br>\n",
        "        <li>We also have weekly demand estimates for the item in each region:</li>\n",
        "        <br>\n",
        "        <li>\n",
        "        <table>\n",
        "  <tr>\n",
        "    <th>Region A</th>\n",
        "    <th>Region B</th>\n",
        "    <th>Region C</th>\n",
        "      <th>Region D</th>\n",
        "  </tr>\n",
        "             <tr>\n",
        "    <th>30</th>\n",
        "    <th>50</th>\n",
        "    <th>10</th>\n",
        "      <th>20</th>\n",
        "            </tr></table></li>\n",
        "        <br>\n",
        "        <li>Further, assume each fulfillment center is able to ship up to $40$ units each week in total.</li>\n",
        "        <br>\n",
        "        <li>What is the minimum transportation cost needed to satisfy all weekly demand while respecting fulfillment center capacities, as well as the optimal shipment plan?</li>\n",
        "        <br>\n",
        "    </ul>\n",
        "</font>\n",
        "\n",
        "$\\square$"
      ]
    },
    {
      "cell_type": "code",
      "execution_count": 68,
      "id": "2f10fa29",
      "metadata": {
        "id": "2f10fa29"
      },
      "outputs": [],
      "source": [
        "fullfilment_centers = 3\n",
        "regions = 4\n",
        "\n",
        "x = cp.Variable((fullfilment_centers, regions))"
      ]
    },
    {
      "cell_type": "code",
      "execution_count": 69,
      "id": "Z17etpVCos_G",
      "metadata": {
        "colab": {
          "base_uri": "https://localhost:8080/",
          "height": 173
        },
        "id": "Z17etpVCos_G",
        "outputId": "a74f0864-cc5e-4f9e-ad47-f658ad84dd1e"
      },
      "outputs": [
        {
          "data": {
            "text/html": [
              "<div>\n",
              "<style scoped>\n",
              "    .dataframe tbody tr th:only-of-type {\n",
              "        vertical-align: middle;\n",
              "    }\n",
              "\n",
              "    .dataframe tbody tr th {\n",
              "        vertical-align: top;\n",
              "    }\n",
              "\n",
              "    .dataframe thead th {\n",
              "        text-align: right;\n",
              "    }\n",
              "</style>\n",
              "<table border=\"1\" class=\"dataframe\">\n",
              "  <thead>\n",
              "    <tr style=\"text-align: right;\">\n",
              "      <th></th>\n",
              "      <th>Region\\FC</th>\n",
              "      <th>1</th>\n",
              "      <th>2</th>\n",
              "      <th>3</th>\n",
              "    </tr>\n",
              "  </thead>\n",
              "  <tbody>\n",
              "    <tr>\n",
              "      <th>0</th>\n",
              "      <td>A: King's County, NY</td>\n",
              "      <td>20</td>\n",
              "      <td>8</td>\n",
              "      <td>25</td>\n",
              "    </tr>\n",
              "    <tr>\n",
              "      <th>1</th>\n",
              "      <td>B: LA County, CA</td>\n",
              "      <td>18</td>\n",
              "      <td>23</td>\n",
              "      <td>8</td>\n",
              "    </tr>\n",
              "    <tr>\n",
              "      <th>2</th>\n",
              "      <td>C: King County</td>\n",
              "      <td>21</td>\n",
              "      <td>24</td>\n",
              "      <td>8</td>\n",
              "    </tr>\n",
              "    <tr>\n",
              "      <th>3</th>\n",
              "      <td>D: Harris County, TX</td>\n",
              "      <td>8</td>\n",
              "      <td>8</td>\n",
              "      <td>19</td>\n",
              "    </tr>\n",
              "  </tbody>\n",
              "</table>\n",
              "</div>"
            ],
            "text/plain": [
              "              Region\\FC   1   2   3\n",
              "0  A: King's County, NY  20   8  25\n",
              "1      B: LA County, CA  18  23   8\n",
              "2        C: King County  21  24   8\n",
              "3  D: Harris County, TX   8   8  19"
            ]
          },
          "execution_count": 69,
          "metadata": {},
          "output_type": "execute_result"
        }
      ],
      "source": [
        "transportation_cost = pd.DataFrame(\n",
        "    {\"Region\\FC\" : [\"A: King's County, NY\", \"B: LA County, CA\", \"C: King County\", \"D: Harris County, TX\"],\n",
        "     \"1\" : [20, 18, 21, 8],\n",
        "     \"2\" : [8, 23, 24, 8],\n",
        "     \"3\" : [25, 8, 8, 19]\n",
        "    }\n",
        ")\n",
        "transportation_cost"
      ]
    },
    {
      "cell_type": "code",
      "execution_count": 70,
      "id": "522f8951",
      "metadata": {
        "id": "522f8951"
      },
      "outputs": [],
      "source": [
        "transportation_cost_per_location = transportation_cost.iloc[0:4, 1:4].values.transpose()"
      ]
    },
    {
      "cell_type": "code",
      "execution_count": 71,
      "id": "mvc8rOrDovYC",
      "metadata": {
        "id": "mvc8rOrDovYC"
      },
      "outputs": [],
      "source": [
        "total_transportation_cost = sum([transportation_cost_per_location[a,b]*x[a,b] for a in range(x.shape[0]) for b in range(x.shape[1])])"
      ]
    },
    {
      "cell_type": "code",
      "execution_count": 72,
      "id": "-wylX6o9oxWO",
      "metadata": {
        "id": "-wylX6o9oxWO"
      },
      "outputs": [],
      "source": [
        "objective = cp.Minimize(total_transportation_cost)"
      ]
    },
    {
      "cell_type": "code",
      "execution_count": 73,
      "id": "5a151155",
      "metadata": {
        "id": "5a151155"
      },
      "outputs": [],
      "source": [
        "capacity_constraints = [(sum([x[a,b] for b in range(x.shape[1])]) <= 40) for a in range(x.shape[0])]"
      ]
    },
    {
      "cell_type": "code",
      "execution_count": 74,
      "id": "Qs7H_i5ao25x",
      "metadata": {
        "id": "Qs7H_i5ao25x"
      },
      "outputs": [],
      "source": [
        "region_demand = [30, 50, 10, 20]\n",
        "\n",
        "demand_constraints = [(sum([x[a,b] for a in range(x.shape[0])]) >= region_demand[b]) for b in range(x.shape[1])]"
      ]
    },
    {
      "cell_type": "code",
      "execution_count": 75,
      "id": "a8mXC4X2o3gQ",
      "metadata": {
        "id": "a8mXC4X2o3gQ"
      },
      "outputs": [],
      "source": [
        "constraints = capacity_constraints + demand_constraints + [x>=0]"
      ]
    },
    {
      "cell_type": "code",
      "execution_count": 76,
      "id": "dfBPKCldpO2x",
      "metadata": {
        "id": "dfBPKCldpO2x"
      },
      "outputs": [],
      "source": [
        "problem = cp.Problem(objective, constraints)"
      ]
    },
    {
      "cell_type": "code",
      "execution_count": 77,
      "id": "Az-BIlLMpQo4",
      "metadata": {
        "colab": {
          "base_uri": "https://localhost:8080/"
        },
        "id": "Az-BIlLMpQo4",
        "outputId": "6cfb08b1-1f15-4956-a9a6-55708cd1e588"
      },
      "outputs": [
        {
          "name": "stdout",
          "output_type": "stream",
          "text": [
            "minimize 20.0 @ var829[0, 0] + 18.0 @ var829[0, 1] + 21.0 @ var829[0, 2] + 8.0 @ var829[0, 3] + 8.0 @ var829[1, 0] + 23.0 @ var829[1, 1] + 24.0 @ var829[1, 2] + 8.0 @ var829[1, 3] + 25.0 @ var829[2, 0] + 8.0 @ var829[2, 1] + 8.0 @ var829[2, 2] + 19.0 @ var829[2, 3]\n",
            "subject to var829[0, 0] + var829[0, 1] + var829[0, 2] + var829[0, 3] <= 40.0\n",
            "           var829[1, 0] + var829[1, 1] + var829[1, 2] + var829[1, 3] <= 40.0\n",
            "           var829[2, 0] + var829[2, 1] + var829[2, 2] + var829[2, 3] <= 40.0\n",
            "           30.0 <= var829[0, 0] + var829[1, 0] + var829[2, 0]\n",
            "           50.0 <= var829[0, 1] + var829[1, 1] + var829[2, 1]\n",
            "           10.0 <= var829[0, 2] + var829[1, 2] + var829[2, 2]\n",
            "           20.0 <= var829[0, 3] + var829[1, 3] + var829[2, 3]\n",
            "           0.0 <= var829\n"
          ]
        }
      ],
      "source": [
        "print(problem)"
      ]
    },
    {
      "cell_type": "code",
      "execution_count": 80,
      "id": "44fca30c",
      "metadata": {
        "colab": {
          "base_uri": "https://localhost:8080/"
        },
        "id": "44fca30c",
        "outputId": "1f76e835-fb3f-4012-8594-08c13a87a926"
      },
      "outputs": [
        {
          "name": "stdout",
          "output_type": "stream",
          "text": [
            "===============================================================================\n",
            "                                     CVXPY                                     \n",
            "                                     v1.4.1                                    \n",
            "===============================================================================\n",
            "(CVXPY) Jan 11 01:14:32 PM: Your problem has 12 variables, 8 constraints, and 0 parameters.\n",
            "(CVXPY) Jan 11 01:14:32 PM: It is compliant with the following grammars: DCP, DQCP\n",
            "(CVXPY) Jan 11 01:14:32 PM: (If you need to solve this problem multiple times, but with different data, consider using parameters.)\n",
            "(CVXPY) Jan 11 01:14:32 PM: CVXPY will first compile your problem; then, it will invoke a numerical solver to obtain a solution.\n",
            "(CVXPY) Jan 11 01:14:32 PM: Your problem is compiled with the CPP canonicalization backend.\n",
            "-------------------------------------------------------------------------------\n",
            "                                  Compilation                                  \n",
            "-------------------------------------------------------------------------------\n",
            "(CVXPY) Jan 11 01:14:32 PM: Using cached ASA map, for faster compilation (bypassing reduction chain).\n",
            "(CVXPY) Jan 11 01:14:32 PM: Finished problem compilation (took 2.393e-03 seconds).\n",
            "-------------------------------------------------------------------------------\n",
            "                                Numerical solver                               \n",
            "-------------------------------------------------------------------------------\n",
            "(CVXPY) Jan 11 01:14:32 PM: Invoking solver SCIPY  to obtain a solution.\n",
            "Solver terminated with message: Optimization terminated successfully. (HiGHS Status 7: Optimal)\n",
            "-------------------------------------------------------------------------------\n",
            "                                    Summary                                    \n",
            "-------------------------------------------------------------------------------\n",
            "(CVXPY) Jan 11 01:14:32 PM: Problem status: optimal\n",
            "(CVXPY) Jan 11 01:14:32 PM: Optimal value: 1.080e+03\n",
            "(CVXPY) Jan 11 01:14:32 PM: Compilation took 2.393e-03 seconds\n",
            "(CVXPY) Jan 11 01:14:32 PM: Solver (including time spent in interface) took 1.864e-03 seconds\n"
          ]
        },
        {
          "data": {
            "text/plain": [
              "1080.0"
            ]
          },
          "execution_count": 80,
          "metadata": {},
          "output_type": "execute_result"
        }
      ],
      "source": [
        "optimal_cost = problem.solve(verbose=True)\n",
        "problem.value"
      ]
    },
    {
      "cell_type": "code",
      "execution_count": 82,
      "id": "726fba4a",
      "metadata": {},
      "outputs": [
        {
          "data": {
            "text/markdown": [
              "<b><u>This tells us the optimal shipment plan from fulfillment centers to regions that minimizes shipping costs to $1080 dollars per week.</u></b>"
            ],
            "text/plain": [
              "<IPython.core.display.Markdown object>"
            ]
          },
          "metadata": {},
          "output_type": "display_data"
        }
      ],
      "source": [
        "display(Markdown(\"<b><u>This tells us the optimal shipment plan from fulfillment centers to regions that minimizes shipping costs to $1080 dollars per week.</u></b>\"))"
      ]
    }
  ],
  "metadata": {
    "colab": {
      "provenance": []
    },
    "hide_input": false,
    "kernelspec": {
      "display_name": "Python 3 (ipykernel)",
      "language": "python",
      "name": "python3"
    },
    "language_info": {
      "codemirror_mode": {
        "name": "ipython",
        "version": 3
      },
      "file_extension": ".py",
      "mimetype": "text/x-python",
      "name": "python",
      "nbconvert_exporter": "python",
      "pygments_lexer": "ipython3",
      "version": "3.11.4"
    },
    "toc": {
      "base_numbering": 1,
      "nav_menu": {},
      "number_sections": true,
      "sideBar": true,
      "skip_h1_title": false,
      "title_cell": "Table of Contents",
      "title_sidebar": "Contents",
      "toc_cell": true,
      "toc_position": {
        "height": "calc(100% - 180px)",
        "left": "10px",
        "top": "150px",
        "width": "316.458px"
      },
      "toc_section_display": true,
      "toc_window_display": true
    }
  },
  "nbformat": 4,
  "nbformat_minor": 5
}
