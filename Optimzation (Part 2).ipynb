{
  "cells": [
    {
      "cell_type": "code",
      "execution_count": 1,
      "id": "222bdff7",
      "metadata": {
        "id": "222bdff7"
      },
      "outputs": [],
      "source": [
        "import numpy as np\n",
        "import pandas as pd\n",
        "import cvxpy as cp\n",
        "\n",
        "from IPython.display import *"
      ]
    },
    {
      "cell_type": "markdown",
      "id": "c8b6c030",
      "metadata": {
        "id": "c8b6c030"
      },
      "source": [
        "# **Question 1**\n"
      ]
    },
    {
      "cell_type": "markdown",
      "id": "a5ac4359",
      "metadata": {
        "id": "a5ac4359"
      },
      "source": [
        "## <a href=\"https://dailytrojan.com/2023/08/07/bonds/\">Optimal Bond Allocation for the USC Investment Office</a>\n",
        "<br>\n",
        "<font size=\"+1\">\n",
        "    <ul>\n",
        "        <li>Assume the <a href=\"http://departmentsdirectory.usc.edu/investment_office.html\">USC Investment Office</a> has decided they want to allocate $100,000 of the endowment fund into two different bonds: a corporate bond, and a government bond. The bonds have the following</li>\n",
        "        <br>\n",
        "        <ul>\n",
        "        <li><a href=\"https://www.investopedia.com/terms/b/bond-yield.asp\">yield</a> (coupon relative to current price),</li>\n",
        "        <br>\n",
        "        <li>risk level (some KPI statistic that measures risk),</li>\n",
        "        <br>\n",
        "        <li>and <a href=\"https://en.wikipedia.org/wiki/Bond_(finance)#Maturity\">maturity</a> (time before your principal is returned).</li>\n",
        "        <br>\n",
        "        </ul>\n",
        "        <li><table>\n",
        "  <tr>\n",
        "    <th>Bond</th>\n",
        "    <th>Yield</th>\n",
        "    <th>Risk Level</th>\n",
        "    <th>Maturity</th>\n",
        "  </tr>\n",
        "  <tr>\n",
        "    <td>Corporate</td>\n",
        "    <td>$4\\%$</td>\n",
        "    <td>2</td>\n",
        "    <td>3 years</td>\n",
        "  </tr>\n",
        "  <tr>\n",
        "    <td>Government</td>\n",
        "    <td>$3\\%$</td>\n",
        "    <td>1</td>\n",
        "    <td>4 years</td>\n",
        "  </tr>\n",
        "</table></li>\n",
        "        <br>\n",
        "        <li>One of the endowment's investment officer would like allocate the $\\$100,000$ slice of the endowment so that</li>\n",
        "        <br>\n",
        "        <ul>\n",
        "            <li>the <b>average</b> risk level of the portfolio is at most $1.5$,</li>\n",
        "            <br>\n",
        "            <li>the <b>average</b> maturity is at most $3.6$ years,</li>\n",
        "            <br>\n",
        "            <li>and any amount not invested in the bonds will be kept in a cash account that is assumed to generate no interest and does not contribute to the average risk level; that is, assume cash has zero yield, zero risk level, and zero maturity.</li>\n",
        "            <br>\n",
        "</font>"
      ]
    },
    {
      "cell_type": "code",
      "execution_count": 13,
      "id": "599c4800",
      "metadata": {
        "id": "599c4800"
      },
      "outputs": [],
      "source": [
        "# The decision variables are the two different bond that the USC Investment Office wants to allocate their $100,000 endowment fund\n",
        "\n",
        "allocations = cp.Variable(2)"
      ]
    },
    {
      "cell_type": "code",
      "execution_count": 14,
      "id": "62f5ee57",
      "metadata": {
        "id": "62f5ee57"
      },
      "outputs": [],
      "source": [
        "# The objective is to maximize the expected yield, which is written in this linear equation\n",
        "expected_yield = 0.04*allocations[0] + 0.03*allocations[1]\n",
        "objective = cp.Maximize(expected_yield)"
      ]
    },
    {
      "cell_type": "code",
      "execution_count": 15,
      "id": "ee625e92",
      "metadata": {
        "id": "ee625e92",
        "scrolled": true
      },
      "outputs": [],
      "source": [
        "# We set the constraints to match the yield and risk level according to the maturity.\n",
        "# Remember, since the endowment fund is only $100,000 then the two allocations could not exceed the amount of the original fund.\n",
        "constraints = [(allocations[0] + allocations[1] <= 100_000),\n",
        "                (2*allocations[0] + 1*allocations[1] <= 150_000),\n",
        "               (3*allocations[0] + 4*allocations[1] <= 360_000),\n",
        "                (allocations >= 0)]"
      ]
    },
    {
      "cell_type": "code",
      "execution_count": 16,
      "id": "e4iBdzfXXj68",
      "metadata": {
        "id": "e4iBdzfXXj68",
        "colab": {
          "base_uri": "https://localhost:8080/"
        },
        "outputId": "b2eb1b1d-6122-443c-c00f-f0f4996da6ce"
      },
      "outputs": [
        {
          "output_type": "stream",
          "name": "stdout",
          "text": [
            "maximize 0.04 @ var91[0] + 0.03 @ var91[1]\n",
            "subject to var91[0] + var91[1] <= 100000.0\n",
            "           2.0 @ var91[0] + 1.0 @ var91[1] <= 150000.0\n",
            "           3.0 @ var91[0] + 4.0 @ var91[1] <= 360000.0\n",
            "           0.0 <= var91\n"
          ]
        }
      ],
      "source": [
        "# Print the problem and the solver\n",
        "problem = cp.Problem(objective, constraints)\n",
        "print(problem)"
      ]
    },
    {
      "cell_type": "code",
      "execution_count": 17,
      "id": "oJqwpFmCXpFy",
      "metadata": {
        "colab": {
          "base_uri": "https://localhost:8080/"
        },
        "id": "oJqwpFmCXpFy",
        "outputId": "e6bf3447-bf40-440e-c326-19b1550a0d7d"
      },
      "outputs": [
        {
          "output_type": "execute_result",
          "data": {
            "text/plain": [
              "3499.999999925091"
            ]
          },
          "metadata": {},
          "execution_count": 17
        }
      ],
      "source": [
        "problem.solve()"
      ]
    },
    {
      "cell_type": "code",
      "execution_count": 18,
      "id": "c081c253",
      "metadata": {
        "colab": {
          "base_uri": "https://localhost:8080/"
        },
        "id": "c081c253",
        "outputId": "040b11eb-6222-417d-fb3f-6432b6b7266b"
      },
      "outputs": [
        {
          "output_type": "stream",
          "name": "stdout",
          "text": [
            "===============================================================================\n",
            "                                     CVXPY                                     \n",
            "                                     v1.3.2                                    \n",
            "===============================================================================\n",
            "(CVXPY) Jan 16 06:34:26 PM: Your problem has 2 variables, 4 constraints, and 0 parameters.\n",
            "(CVXPY) Jan 16 06:34:26 PM: It is compliant with the following grammars: DCP, DQCP\n",
            "(CVXPY) Jan 16 06:34:26 PM: (If you need to solve this problem multiple times, but with different data, consider using parameters.)\n",
            "(CVXPY) Jan 16 06:34:26 PM: CVXPY will first compile your problem; then, it will invoke a numerical solver to obtain a solution.\n",
            "-------------------------------------------------------------------------------\n",
            "                                  Compilation                                  \n",
            "-------------------------------------------------------------------------------\n",
            "(CVXPY) Jan 16 06:34:26 PM: Using cached ASA map, for faster compilation (bypassing reduction chain).\n",
            "(CVXPY) Jan 16 06:34:26 PM: Finished problem compilation (took 1.023e-02 seconds).\n",
            "-------------------------------------------------------------------------------\n",
            "                                Numerical solver                               \n",
            "-------------------------------------------------------------------------------\n",
            "(CVXPY) Jan 16 06:34:26 PM: Invoking solver ECOS  to obtain a solution.\n",
            "-------------------------------------------------------------------------------\n",
            "                                    Summary                                    \n",
            "-------------------------------------------------------------------------------\n",
            "(CVXPY) Jan 16 06:34:26 PM: Problem status: optimal\n",
            "(CVXPY) Jan 16 06:34:26 PM: Optimal value: 3.500e+03\n",
            "(CVXPY) Jan 16 06:34:26 PM: Compilation took 1.023e-02 seconds\n",
            "(CVXPY) Jan 16 06:34:26 PM: Solver (including time spent in interface) took 2.921e-04 seconds\n"
          ]
        },
        {
          "output_type": "execute_result",
          "data": {
            "text/plain": [
              "3499.999999925091"
            ]
          },
          "metadata": {},
          "execution_count": 18
        }
      ],
      "source": [
        "problem.solve(verbose=True)"
      ]
    },
    {
      "cell_type": "code",
      "execution_count": 19,
      "id": "2O97LYTiX6uR",
      "metadata": {
        "colab": {
          "base_uri": "https://localhost:8080/"
        },
        "id": "2O97LYTiX6uR",
        "outputId": "9412e092-9425-411d-bc96-73c9718f3f9a"
      },
      "outputs": [
        {
          "output_type": "execute_result",
          "data": {
            "text/plain": [
              "array([50000.00000268, 49999.99999393])"
            ]
          },
          "metadata": {},
          "execution_count": 19
        }
      ],
      "source": [
        "#This code shows much money needs to be allocated for each bond\n",
        "allocations.value"
      ]
    },
    {
      "cell_type": "code",
      "execution_count": 20,
      "id": "e188c91c",
      "metadata": {
        "colab": {
          "base_uri": "https://localhost:8080/",
          "height": 46
        },
        "id": "e188c91c",
        "outputId": "c02acc87-9d8a-4535-a8a5-0fa5384976da"
      },
      "outputs": [
        {
          "output_type": "display_data",
          "data": {
            "text/plain": [
              "<IPython.core.display.Markdown object>"
            ],
            "text/markdown": "<b>The solution to this problem would be to invest 0 in cash, 50000 in corporate bond and 50000 in government bond.</b>"
          },
          "metadata": {}
        }
      ],
      "source": [
        "display(Markdown(\"<b>The solution to this problem would be to invest 0 in cash, 50000 in corporate bond and 50000 in government bond.</b>\"))"
      ]
    },
    {
      "cell_type": "code",
      "execution_count": 21,
      "id": "13a78fe9",
      "metadata": {
        "colab": {
          "base_uri": "https://localhost:8080/"
        },
        "id": "13a78fe9",
        "outputId": "f390f9a2-0b59-480b-93d7-56bae840c5ef"
      },
      "outputs": [
        {
          "output_type": "execute_result",
          "data": {
            "text/plain": [
              "99999.99999660859"
            ]
          },
          "metadata": {},
          "execution_count": 21
        }
      ],
      "source": [
        "np.sum(allocations.value)"
      ]
    },
    {
      "cell_type": "code",
      "execution_count": 22,
      "id": "WyflOA99YuDG",
      "metadata": {
        "colab": {
          "base_uri": "https://localhost:8080/"
        },
        "id": "WyflOA99YuDG",
        "outputId": "af860807-324e-4488-a0b0-96b57f81d706"
      },
      "outputs": [
        {
          "output_type": "execute_result",
          "data": {
            "text/plain": [
              "100000"
            ]
          },
          "metadata": {},
          "execution_count": 22
        }
      ],
      "source": [
        "round(np.sum(allocations.value))"
      ]
    },
    {
      "cell_type": "markdown",
      "source": [
        "# **Question 2**"
      ],
      "metadata": {
        "id": "k4dsU0TAiRbz"
      },
      "id": "k4dsU0TAiRbz"
    },
    {
      "cell_type": "markdown",
      "id": "61cbd1ac",
      "metadata": {
        "id": "61cbd1ac"
      },
      "source": [
        "## Bond Dedication\n",
        "   <li>A common application of optimization for decision making within a company is to cover <b>known</b> liabilities (unknown liabilities are a different story) by constructing a <b>dedicated</b> fixed-income (bond) portfolio.</li>\n",
        "    <br>\n",
        "    <li>A <b>dedicated</b> bond portfolio is a portfolio of bonds constructed today with cash flows that offset the liabilities.</li>\n",
        "    <br>\n",
        "    <li>Often, when the liabilities span multiple years, many companies make the simplifying assumption that the only sources of risk are changes in interest rates (more specifically, the term structure of interest rates).</li></font>\n",
        "    <br>\n",
        "    <li>Consider a business facing the general problem of funding a stream of liabilities, such as labor costs, or the planning of an acquisition, expansion, product development, or other operational costs, that extends over the future.</li>\n",
        "    <br>\n",
        "    <li>Assume you have a forecast of future liabilities, which is reasonably accurate (not so easy to do in practice).</li>\n",
        "    <br>\n",
        "    <li>Specifically, suppose a pension fund needs to cover some liabilities, due to people retiring, in the next six years.</li>\n",
        "    <br>\n",
        "    <li>The cash requirements (in millions) needing to be funded are:<table>\n",
        "  <tr>\n",
        "    <th>Year</th>\n",
        "    <th>1</th>\n",
        "    <th>2</th>\n",
        "    <th>3</th>\n",
        "      <th>4</th>\n",
        "      <th>5</th>\n",
        "      <th>6</th>\n",
        "  </tr>\n",
        "  <tr>\n",
        "    <td>Liability Needing To Be Covered</td>\n",
        "    <td>100</td>\n",
        "    <td>200</td>\n",
        "    <td>800</td>\n",
        "      <td>100</td>\n",
        "      <td>800</td>\n",
        "      <td>1200</td>\n",
        "  </tr>\n",
        "            </table></li>\n",
        "        <br>\n",
        "        <li>Assume the pension fund can invest in the following ten government bonds of various maturities with the given cash flows and current prices (both in millions): <table>\n",
        "  <tr>\n",
        "    <th>Bond $\\downarrow$,  Year $\\rightarrow$</th>\n",
        "    <th>1</th>\n",
        "    <th>2</th>\n",
        "    <th>3</th>\n",
        "      <th>4</th>\n",
        "      <th>5</th>\n",
        "      <th>6</th>\n",
        "      <th>Price</th>\n",
        "  </tr>\n",
        "  <tr>\n",
        "    <td>Bond 1</td>\n",
        "    <td>10</td>\n",
        "    <td>10</td>\n",
        "    <td>10</td>\n",
        "      <td>10</td>\n",
        "      <td>10</td>\n",
        "      <td>100+10</td>\n",
        "      <td>109</td>\n",
        "  </tr>\n",
        "              <tr>\n",
        "    <td>Bond 2</td>\n",
        "    <td>7</td>\n",
        "    <td>7</td>\n",
        "    <td>7</td>\n",
        "      <td>7</td>\n",
        "      <td>7</td>\n",
        "      <td>100+7</td>\n",
        "      <td>94.8</td>\n",
        "  </tr>\n",
        "              <tr>\n",
        "    <td>Bond 3</td>\n",
        "    <td>8</td>\n",
        "    <td>8</td>\n",
        "    <td>8</td>\n",
        "      <td>8</td>\n",
        "      <td>8</td>\n",
        "      <td>100+8</td>\n",
        "      <td>99.5</td>\n",
        "  </tr>\n",
        "              <tr>\n",
        "    <td>Bond 4</td>\n",
        "    <td>6</td>\n",
        "    <td>6</td>\n",
        "    <td>6</td>\n",
        "      <td>6</td>\n",
        "      <td>100+6</td>\n",
        "      <td>n/a</td>\n",
        "      <td>93.1</td>\n",
        "  </tr>\n",
        "              <tr>\n",
        "    <td>Bond 5</td>\n",
        "    <td>7</td>\n",
        "    <td>7</td>\n",
        "    <td>7</td>\n",
        "      <td>7</td>\n",
        "      <td>100+7</td>\n",
        "      <td>n/a</td>\n",
        "      <td>97.2</td>\n",
        "  </tr>\n",
        "              <tr>\n",
        "    <td>Bond 6</td>\n",
        "    <td>5</td>\n",
        "    <td>5</td>\n",
        "    <td>5</td>\n",
        "      <td>100+5</td>\n",
        "      <td>n/a</td>\n",
        "      <td>n/a</td>\n",
        "      <td>92.7</td>\n",
        "  </tr>\n",
        "              <tr>\n",
        "    <td>Bond 7</td>\n",
        "    <td>10</td>\n",
        "    <td>10</td>\n",
        "    <td>100+10</td>\n",
        "      <td>n/a</td>\n",
        "      <td>n/a</td>\n",
        "      <td>n/a</td>\n",
        "      <td>110</td>\n",
        "  </tr>\n",
        "              <tr>\n",
        "    <td>Bond 8</td>\n",
        "    <td>8</td>\n",
        "    <td>8</td>\n",
        "    <td>100+8</td>\n",
        "      <td>n/a</td>\n",
        "      <td>n/a</td>\n",
        "      <td>n/a</td>\n",
        "      <td>104</td>\n",
        "  </tr>\n",
        "              <tr>\n",
        "    <td>Bond 9</td>\n",
        "    <td>7</td>\n",
        "    <td>100+7</td>\n",
        "    <td>n/a</td>\n",
        "      <td>n/a</td>\n",
        "      <td>n/a</td>\n",
        "      <td>n/a</td>\n",
        "      <td>102</td>\n",
        "  </tr>\n",
        "              <tr>\n",
        "    <td>Bond 10</td>\n",
        "    <td>100</td>\n",
        "    <td>n/a</td>\n",
        "    <td>n/a</td>\n",
        "      <td>n/a</td>\n",
        "      <td>n/a</td>\n",
        "      <td>n/a</td>\n",
        "      <td>95.2</td>\n",
        "  </tr>\n",
        "            </table>\n",
        "        </li>\n",
        "        <br>\n",
        "        <li>Find the least expensive portfolio of bonds whose cash flows will be sufficient to cover the cash requirements. This portfolio of bonds is the <b>dedicated portfolio</b>.</li>\n",
        "        <br>\n",
        "        <li>After every year, the dedicated bond portfolio must cover the liability for that year, but it can also pay more than the liability, which is called a surplus.</li>\n",
        "        <br>\n",
        "        <li>The yearly surplus is something the pension fund can choose to control.</li>\n",
        "        <br>\n",
        "        <li>Assume any surplus cash can be carried from one year to the next, but will earn zero interest.</li>\n",
        "        <br>\n",
        "        "
      ]
    },
    {
      "cell_type": "code",
      "execution_count": null,
      "id": "4503b445",
      "metadata": {
        "id": "4503b445"
      },
      "outputs": [],
      "source": [
        "# Create the decision variables for this optimization problem.\n",
        "# Since the pension fund could be invested into ten government bonds, the investment for each bond is the decision variable\n",
        "\n",
        "bond_investment = cp.Variable(10)\n",
        "\n",
        "bond_1 = bond_investment[0]\n",
        "bond_2 = bond_investment[1]\n",
        "bond_3 = bond_investment[2]\n",
        "bond_4 = bond_investment[3]\n",
        "bond_5 = bond_investment[4]\n",
        "bond_6 = bond_investment[5]\n",
        "bond_7 = bond_investment[6]\n",
        "bond_8 = bond_investment[7]\n",
        "bond_9 = bond_investment[8]\n",
        "bond_10 = bond_investment[9]"
      ]
    },
    {
      "cell_type": "code",
      "execution_count": null,
      "id": "3gWl7sfiDFjJ",
      "metadata": {
        "id": "3gWl7sfiDFjJ"
      },
      "outputs": [],
      "source": [
        "# After every year, the dedicated bond portfolio must cover the liability for that year, but it can pay more than the liability (called surplus)\n",
        "# The surplus can be controlled meaning it would be another decision variable\n",
        "cash_surplus = cp.Variable(6)\n",
        "\n",
        "surplus_1 = cash_surplus[0]\n",
        "surplus_2 = cash_surplus[1]\n",
        "surplus_3 = cash_surplus[2]\n",
        "surplus_4 = cash_surplus[3]\n",
        "surplus_5 = cash_surplus[4]\n",
        "surplus_6 = cash_surplus[5]"
      ]
    },
    {
      "cell_type": "code",
      "execution_count": null,
      "id": "e14b149c",
      "metadata": {
        "id": "e14b149c"
      },
      "outputs": [],
      "source": [
        "#Create a linear equation describing the bond The objective of this solver is to minimize the price\n",
        "price = 109*bond_1 + 94.8*bond_2 + 99.5*bond_3 + 93.1*bond_4 + 97.2*bond_5 + 92.7*bond_6 + 110*bond_7 + 104*bond_8 + 102*bond_9 + 95.2*bond_10\n",
        "objective = cp.Minimize(price)"
      ]
    },
    {
      "cell_type": "code",
      "execution_count": null,
      "id": "636f12e6",
      "metadata": {
        "id": "636f12e6"
      },
      "outputs": [],
      "source": [
        "# Write down the constraints which includes the liability and surplus.\n",
        "# Since the surplus and long term-investment could never be nominally 0, that constraint is also added.\n",
        "year_one_constraint = (10 * bond_1 + 7 * bond_2 + 8 * bond_3 + 6 * bond_4 + 7 * bond_5 + 5 * bond_6 + 10 * bond_7 + 8 * bond_8 + 7 * bond_9 + 100 * bond_10 == 100 + surplus_1)\n",
        "year_two_constraint = (10 * bond_1 + 7 * bond_2 + 8 * bond_3 + 6 * bond_4 + 7 * bond_5 + 5 * bond_6 + 10 * bond_7 + 8 * bond_8 + 107 * bond_9 + surplus_1 == 200 + surplus_2)\n",
        "year_three_constraint = (10 * bond_1 + 7 * bond_2 + 8 * bond_3 + 6 * bond_4 + 7 * bond_5 + 5 * bond_6 + 110 * bond_7 + 108 * bond_8 + surplus_2 == 800 + surplus_3)\n",
        "year_four_constraint = (10 * bond_1 + 7 * bond_2 + 8 * bond_3 + 6 * bond_4 + 7 * bond_5 + 105 * bond_6 + surplus_3 == 100 + surplus_4)\n",
        "year_five_constraint = (10 * bond_1 + 7 * bond_2 + 8 * bond_3 + 106 * bond_4 + 107 * bond_5 + surplus_4 == 800 + surplus_5)\n",
        "year_six_constraint = (110 * bond_1 + 107 * bond_2 + 108 * bond_3 + surplus_5 == 1200 + surplus_6)\n",
        "long_only_investment = (bond_investment >= 0)\n",
        "surplus_only = (cash_surplus >= 0)"
      ]
    },
    {
      "cell_type": "code",
      "execution_count": null,
      "id": "a9a57f2f",
      "metadata": {
        "id": "a9a57f2f"
      },
      "outputs": [],
      "source": [
        "problem = cp.Problem(objective, [year_one_constraint,\n",
        "                              year_two_constraint,\n",
        "                              year_three_constraint,\n",
        "                              year_four_constraint,\n",
        "                              year_five_constraint,\n",
        "                              year_six_constraint,\n",
        "                              long_only_investment,\n",
        "                              surplus_only])"
      ]
    },
    {
      "cell_type": "code",
      "execution_count": null,
      "id": "PZjfeLdTDUKz",
      "metadata": {
        "colab": {
          "base_uri": "https://localhost:8080/"
        },
        "id": "PZjfeLdTDUKz",
        "outputId": "4c3ff984-1da8-47cc-dede-0780c7391b35"
      },
      "outputs": [
        {
          "data": {
            "text/plain": [
              "2305.69164800379"
            ]
          },
          "execution_count": 38,
          "metadata": {},
          "output_type": "execute_result"
        }
      ],
      "source": [
        "problem.solve()"
      ]
    },
    {
      "cell_type": "code",
      "execution_count": null,
      "id": "c3WqIoPcDXwd",
      "metadata": {
        "colab": {
          "base_uri": "https://localhost:8080/"
        },
        "id": "c3WqIoPcDXwd",
        "outputId": "f940fe43-c5ff-48a7-b148-d9a32c420afc"
      },
      "outputs": [
        {
          "name": "stdout",
          "output_type": "stream",
          "text": [
            "===============================================================================\n",
            "                                     CVXPY                                     \n",
            "                                     v1.4.1                                    \n",
            "===============================================================================\n",
            "(CVXPY) Jan 16 10:06:53 AM: Your problem has 16 variables, 8 constraints, and 0 parameters.\n",
            "(CVXPY) Jan 16 10:06:53 AM: It is compliant with the following grammars: DCP, DQCP\n",
            "(CVXPY) Jan 16 10:06:53 AM: (If you need to solve this problem multiple times, but with different data, consider using parameters.)\n",
            "(CVXPY) Jan 16 10:06:53 AM: CVXPY will first compile your problem; then, it will invoke a numerical solver to obtain a solution.\n",
            "(CVXPY) Jan 16 10:06:53 AM: Your problem is compiled with the CPP canonicalization backend.\n",
            "-------------------------------------------------------------------------------\n",
            "                                  Compilation                                  \n",
            "-------------------------------------------------------------------------------\n",
            "(CVXPY) Jan 16 10:06:53 AM: Using cached ASA map, for faster compilation (bypassing reduction chain).\n",
            "(CVXPY) Jan 16 10:06:53 AM: Finished problem compilation (took 1.413e-03 seconds).\n",
            "-------------------------------------------------------------------------------\n",
            "                                Numerical solver                               \n",
            "-------------------------------------------------------------------------------\n",
            "(CVXPY) Jan 16 10:06:53 AM: Invoking solver SCIPY  to obtain a solution.\n",
            "Solver terminated with message: Optimization terminated successfully. (HiGHS Status 7: Optimal)\n",
            "-------------------------------------------------------------------------------\n",
            "                                    Summary                                    \n",
            "-------------------------------------------------------------------------------\n",
            "(CVXPY) Jan 16 10:06:53 AM: Problem status: optimal\n",
            "(CVXPY) Jan 16 10:06:53 AM: Optimal value: 2.306e+03\n",
            "(CVXPY) Jan 16 10:06:53 AM: Compilation took 1.413e-03 seconds\n",
            "(CVXPY) Jan 16 10:06:53 AM: Solver (including time spent in interface) took 1.297e-03 seconds\n"
          ]
        },
        {
          "data": {
            "text/plain": [
              "2305.69164800379"
            ]
          },
          "execution_count": 39,
          "metadata": {},
          "output_type": "execute_result"
        }
      ],
      "source": [
        "problem.solve(verbose=True)"
      ]
    },
    {
      "cell_type": "code",
      "execution_count": null,
      "id": "_rkNtp5eDbb8",
      "metadata": {
        "colab": {
          "base_uri": "https://localhost:8080/"
        },
        "id": "_rkNtp5eDbb8",
        "outputId": "4d602acb-2a46-48e7-cae1-35feae2f2aac"
      },
      "outputs": [
        {
          "data": {
            "text/plain": [
              "array([-0.        , 11.21495327, -0.        ,  6.63384513, -0.        ,\n",
              "       -0.        , -0.        ,  6.00868362, -0.        , -0.        ])"
            ]
          },
          "execution_count": 40,
          "metadata": {},
          "output_type": "execute_result"
        }
      ],
      "source": [
        "bond_investment.value"
      ]
    },
    {
      "cell_type": "code",
      "execution_count": null,
      "id": "W87L5De4DeYd",
      "metadata": {
        "colab": {
          "base_uri": "https://localhost:8080/"
        },
        "id": "W87L5De4DeYd",
        "outputId": "1e44c084-1f1d-4ca3-e475-90bdc120b752"
      },
      "outputs": [
        {
          "data": {
            "text/plain": [
              "array([-0.  , 11.21, -0.  ,  6.63, -0.  , -0.  , -0.  ,  6.01, -0.  ,\n",
              "       -0.  ])"
            ]
          },
          "execution_count": 29,
          "metadata": {},
          "output_type": "execute_result"
        }
      ],
      "source": [
        "bond_inv = np.round(bond_investment.value, 2)\n",
        "bond_inv"
      ]
    },
    {
      "cell_type": "code",
      "execution_count": null,
      "id": "RQnuPC1-DhaL",
      "metadata": {
        "colab": {
          "base_uri": "https://localhost:8080/"
        },
        "id": "RQnuPC1-DhaL",
        "outputId": "161f2d32-e323-4cd0-9876-5ef130dcc044"
      },
      "outputs": [
        {
          "name": "stdout",
          "output_type": "stream",
          "text": [
            "Buy -0.0 units in bond number 1\n",
            "Buy 11.21 units in bond number 2\n",
            "Buy -0.0 units in bond number 3\n",
            "Buy 6.63 units in bond number 4\n",
            "Buy -0.0 units in bond number 5\n",
            "Buy -0.0 units in bond number 6\n",
            "Buy -0.0 units in bond number 7\n",
            "Buy 6.01 units in bond number 8\n",
            "Buy -0.0 units in bond number 9\n",
            "Buy -0.0 units in bond number 10\n"
          ]
        }
      ],
      "source": [
        "# This is the least expensive portfolio of bonds whose cash flow will be sufficient to cover the cash requirements.\n",
        "bond_no = 1\n",
        "\n",
        "for i in np.round(bond_investment.value, 2):\n",
        "  print(\"Buy\", i, \"units in bond number\", bond_no)\n",
        "  bond_no += 1"
      ]
    },
    {
      "cell_type": "code",
      "execution_count": null,
      "id": "T25iuUN1Dk6B",
      "metadata": {
        "colab": {
          "base_uri": "https://localhost:8080/"
        },
        "id": "T25iuUN1Dk6B",
        "outputId": "5de7b6f6-44bd-4f09-fdf0-743b2d29ed76"
      },
      "outputs": [
        {
          "name": "stdout",
          "output_type": "stream",
          "text": [
            "The cash surplus value is $ 66.38 million in year 1\n",
            "The cash surplus value is $ 32.75 million in year 2\n",
            "The cash surplus value is $ -0.0 million in year 3\n",
            "The cash surplus value is $ 18.31 million in year 4\n",
            "The cash surplus value is $ -0.0 million in year 5\n",
            "The cash surplus value is $ -0.0 million in year 6\n"
          ]
        }
      ],
      "source": [
        "# This is the amount of surplus for each year\n",
        "surplus = np.round(cash_surplus.value, 2)\n",
        "surplus\n",
        "\n",
        "year_number = 1\n",
        "for i in surplus:\n",
        "    print(\"The cash surplus value is $\", i,\"million in year\", year_number)\n",
        "    year_number +=1\n"
      ]
    },
    {
      "cell_type": "markdown",
      "source": [
        "# **Question 3**"
      ],
      "metadata": {
        "id": "ETjZxyKNijAl"
      },
      "id": "ETjZxyKNijAl"
    },
    {
      "cell_type": "markdown",
      "id": "6e790890",
      "metadata": {
        "id": "6e790890"
      },
      "source": [
        "## Quadratic Asset Allocation\n",
        "<br>\n",
        "<font size=\"+1\">\n",
        "    <ul>\n",
        "        <li>Assume you have estimated, with the best possible machine learning algorithm, the one-year correlations and standard deviations of the following groups of large stocks, small stocks, and bonds.</li>\n",
        "        <br>\n",
        "        <li><table>\n",
        "  <tr>\n",
        "    <th bgcolor=\"dodgerblue\">Correlations</th>\n",
        "    <th>Large Stocks</th>\n",
        "    <th>Small Stocks</th>\n",
        "    <th>Bonds</th>\n",
        "      <th bgcolor=\"pink\">Standard Deviation</th>\n",
        "  </tr>\n",
        "  <tr>\n",
        "    <td>Large Stocks</td>\n",
        "    <td bgcolor=\"dodgerblue\" >1</td>\n",
        "    <td bgcolor=\"dodgerblue\">0.6</td>\n",
        "    <td bgcolor=\"dodgerblue\">0.2</td>\n",
        "      <td bgcolor=\"pink\">0.12</td>\n",
        "  </tr>\n",
        "  <tr>\n",
        "    <td>Small Stocks</td>\n",
        "    <td bgcolor=\"dodgerblue\">0.6</td>\n",
        "    <td bgcolor=\"dodgerblue\">1</td>\n",
        "    <td bgcolor=\"dodgerblue\">0.5</td>\n",
        "      <td bgcolor=\"pink\">0.2</td>\n",
        "  </tr>\n",
        "  <tr>\n",
        "    <td>Bonds</td>\n",
        "    <td bgcolor=\"dodgerblue\">0.2</td>\n",
        "    <td bgcolor=\"dodgerblue\">0.5</td>\n",
        "    <td bgcolor=\"dodgerblue\">1</td>\n",
        "      <td bgcolor=\"pink\">0.05</td>\n",
        "  </tr>\n",
        "</table></li>\n",
        "        <br>\n",
        "        <li>Recall the covariance of asset $i$ and asset $j$ equals the product of the correlation of asset $i$ and $j$ with the standard deviation of asset $i$ and the standard deviation of asset $j$.</li>\n",
        "        <br>\n",
        "        <li>After doing some computations, you compute the covariances corresponding to the different asset classes are as follows: </li>\n",
        "        <br>\n",
        "        <li><table>\n",
        "  <tr>\n",
        "    <th bgcolor=\"orange\">Covariance</th>\n",
        "    <th>Large Stocks</th>\n",
        "    <th>Small Stocks</th>\n",
        "    <th>Bonds</th>\n",
        "  </tr>\n",
        "  <tr>\n",
        "    <td>Large Stocks</td>\n",
        "    <td bgcolor=\"orange\" >0.0144</td>\n",
        "    <td bgcolor=\"orange\">0.0144</td>\n",
        "    <td bgcolor=\"orange\">0.0012</td>\n",
        "  </tr>\n",
        "  <tr>\n",
        "    <td>Small Stocks</td>\n",
        "    <td bgcolor=\"orange\">0.0144</td>\n",
        "    <td bgcolor=\"orange\">0.04</td>\n",
        "    <td bgcolor=\"orange\">0.005</td>\n",
        "  </tr>\n",
        "     <tr>\n",
        "    <td>Bonds</td>\n",
        "    <td bgcolor=\"orange\">0.0012</td>\n",
        "    <td bgcolor=\"orange\">0.005</td>\n",
        "    <td bgcolor=\"orange\">0.0025</td>\n",
        "  </tr>\n",
        "</table></li>\n",
        "        <br>\n",
        "        <li>Given the above estimates, determine the asset allocation that produces the smallest amount of risk.</li>\n",
        "        <br>\n",
        "        <li>Specifically, find a portfolio comprised of these three asset classes whose return has the lowest variance.</li>\n",
        "        <br>\n",
        "        <li>Assume the portfolio can only hold long positions in each of the three asset classes and you are to be fully invested.</li>\n",
        "    </ul>"
      ]
    },
    {
      "cell_type": "code",
      "execution_count": 2,
      "id": "7f2d8f99",
      "metadata": {
        "id": "7f2d8f99"
      },
      "outputs": [],
      "source": [
        "# Similar to the problems above, we determine the decision variables for this problem\n",
        "portfolio = cp.Variable(3, nonneg=True)\n",
        "large_stocks = portfolio[0]\n",
        "small_stocks = portfolio[1]\n",
        "bonds = portfolio[2]"
      ]
    },
    {
      "cell_type": "code",
      "execution_count": 3,
      "id": "6f53322b",
      "metadata": {
        "id": "6f53322b"
      },
      "outputs": [],
      "source": [
        "#We then create a covariance matrix using numpy array\n",
        "covariance_matrix = np.array([[0.0144, 0.0144, 0.0012],\n",
        "                              [0.0144, 0.04, 0.005],\n",
        "                              [0.0012, 0.005, 0.0025]])"
      ]
    },
    {
      "cell_type": "code",
      "execution_count": 4,
      "id": "JN4H60z5DyUV",
      "metadata": {
        "id": "JN4H60z5DyUV"
      },
      "outputs": [],
      "source": [
        "# Determine the objective of the problem which is to determine asset location that produces the smallest amount or \"minimizes\" risk.\n",
        "objective = cp.Minimize(cp.quad_form(portfolio, covariance_matrix))"
      ]
    },
    {
      "cell_type": "code",
      "execution_count": 5,
      "id": "b640954f",
      "metadata": {
        "id": "b640954f"
      },
      "outputs": [],
      "source": [
        "#Set the constraints\n",
        "constraint_1 = (large_stocks + small_stocks + bonds == 1)\n",
        "constraint_2 = (large_stocks >= 0)\n",
        "constraint_3 = (small_stocks >= 0)\n",
        "constraint_4 = (bonds >= 0)"
      ]
    },
    {
      "cell_type": "code",
      "execution_count": 6,
      "id": "fe69c63b",
      "metadata": {
        "id": "fe69c63b"
      },
      "outputs": [],
      "source": [
        "problem = cp.Problem(objective, [constraint_1,\n",
        "                              constraint_2,\n",
        "                              constraint_3,\n",
        "                              constraint_4])"
      ]
    },
    {
      "cell_type": "code",
      "execution_count": 7,
      "id": "maMru0LuD6YI",
      "metadata": {
        "colab": {
          "base_uri": "https://localhost:8080/"
        },
        "id": "maMru0LuD6YI",
        "outputId": "42980f78-2b79-403d-f049-7dd6ab56975d"
      },
      "outputs": [
        {
          "output_type": "stream",
          "name": "stdout",
          "text": [
            "minimize QuadForm(var1, [[0.0144 0.0144 0.0012]\n",
            " [0.0144 0.04   0.005 ]\n",
            " [0.0012 0.005  0.0025]])\n",
            "subject to var1[0] + var1[1] + var1[2] == 1.0\n",
            "           0.0 <= var1[0]\n",
            "           0.0 <= var1[1]\n",
            "           0.0 <= var1[2]\n"
          ]
        }
      ],
      "source": [
        "print(problem)"
      ]
    },
    {
      "cell_type": "code",
      "execution_count": 8,
      "id": "I5uFkI1lD702",
      "metadata": {
        "colab": {
          "base_uri": "https://localhost:8080/"
        },
        "id": "I5uFkI1lD702",
        "outputId": "c1b64594-c491-493a-a575-a48409733c30"
      },
      "outputs": [
        {
          "output_type": "execute_result",
          "data": {
            "text/plain": [
              "0.0023834482758620687"
            ]
          },
          "metadata": {},
          "execution_count": 8
        }
      ],
      "source": [
        "problem.solve()"
      ]
    },
    {
      "cell_type": "code",
      "execution_count": 9,
      "id": "5OXZGyWND9TE",
      "metadata": {
        "colab": {
          "base_uri": "https://localhost:8080/"
        },
        "id": "5OXZGyWND9TE",
        "outputId": "ff917c15-de5f-44ea-e713-80f1cee442b3"
      },
      "outputs": [
        {
          "output_type": "stream",
          "name": "stdout",
          "text": [
            "===============================================================================\n",
            "                                     CVXPY                                     \n",
            "                                     v1.3.2                                    \n",
            "===============================================================================\n",
            "(CVXPY) Jan 16 06:27:53 PM: Your problem has 3 variables, 4 constraints, and 0 parameters.\n",
            "(CVXPY) Jan 16 06:27:53 PM: It is compliant with the following grammars: DCP, DQCP\n",
            "(CVXPY) Jan 16 06:27:53 PM: (If you need to solve this problem multiple times, but with different data, consider using parameters.)\n",
            "(CVXPY) Jan 16 06:27:53 PM: CVXPY will first compile your problem; then, it will invoke a numerical solver to obtain a solution.\n",
            "-------------------------------------------------------------------------------\n",
            "                                  Compilation                                  \n",
            "-------------------------------------------------------------------------------\n",
            "(CVXPY) Jan 16 06:27:53 PM: Using cached ASA map, for faster compilation (bypassing reduction chain).\n",
            "(CVXPY) Jan 16 06:27:53 PM: Finished problem compilation (took 4.248e-03 seconds).\n",
            "-------------------------------------------------------------------------------\n",
            "                                Numerical solver                               \n",
            "-------------------------------------------------------------------------------\n",
            "(CVXPY) Jan 16 06:27:53 PM: Invoking solver OSQP  to obtain a solution.\n",
            "iter   objective    pri res    dua res    rho        time\n",
            "   1   2.3834e-03   2.22e-16   8.67e-18   4.53e-03   8.75e-05s\n",
            "  25   2.3834e-03   2.22e-16   1.21e-17   4.53e-03   1.79e-04s\n",
            "\n",
            "status:               solved\n",
            "number of iterations: 25\n",
            "optimal objective:    0.0024\n",
            "run time:             2.31e-04s\n",
            "optimal rho estimate: 2.09e-03\n",
            "\n",
            "-------------------------------------------------------------------------------\n",
            "                                    Summary                                    \n",
            "-------------------------------------------------------------------------------\n",
            "(CVXPY) Jan 16 06:27:53 PM: Problem status: optimal\n",
            "(CVXPY) Jan 16 06:27:53 PM: Optimal value: 2.383e-03\n",
            "(CVXPY) Jan 16 06:27:53 PM: Compilation took 4.248e-03 seconds\n",
            "(CVXPY) Jan 16 06:27:53 PM: Solver (including time spent in interface) took 1.140e-03 seconds\n"
          ]
        },
        {
          "output_type": "execute_result",
          "data": {
            "text/plain": [
              "0.0023834482758620704"
            ]
          },
          "metadata": {},
          "execution_count": 9
        }
      ],
      "source": [
        "problem.solve(verbose=True)"
      ]
    },
    {
      "cell_type": "code",
      "execution_count": 12,
      "id": "nMlR6dhUEA7x",
      "metadata": {
        "colab": {
          "base_uri": "https://localhost:8080/"
        },
        "id": "nMlR6dhUEA7x",
        "outputId": "c25cf923-6af2-4032-a4ff-0991df122ac2"
      },
      "outputs": [
        {
          "output_type": "execute_result",
          "data": {
            "text/plain": [
              "array([0.0897, 0.    , 0.9103])"
            ]
          },
          "metadata": {},
          "execution_count": 12
        }
      ],
      "source": [
        "#Print the portfolio value and then round it\n",
        "portfolio.value\n",
        "np.round(portfolio.value, 4)"
      ]
    }
  ],
  "metadata": {
    "colab": {
      "provenance": []
    },
    "hide_input": false,
    "kernelspec": {
      "display_name": "Python 3 (ipykernel)",
      "language": "python",
      "name": "python3"
    },
    "language_info": {
      "codemirror_mode": {
        "name": "ipython",
        "version": 3
      },
      "file_extension": ".py",
      "mimetype": "text/x-python",
      "name": "python",
      "nbconvert_exporter": "python",
      "pygments_lexer": "ipython3",
      "version": "3.11.4"
    },
    "toc": {
      "base_numbering": 1,
      "nav_menu": {},
      "number_sections": true,
      "sideBar": true,
      "skip_h1_title": false,
      "title_cell": "Table of Contents",
      "title_sidebar": "Contents",
      "toc_cell": true,
      "toc_position": {
        "height": "calc(100% - 180px)",
        "left": "10px",
        "top": "150px",
        "width": "202.096px"
      },
      "toc_section_display": true,
      "toc_window_display": true
    }
  },
  "nbformat": 4,
  "nbformat_minor": 5
}